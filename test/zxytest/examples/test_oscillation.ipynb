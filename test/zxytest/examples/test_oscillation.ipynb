{
 "cells": [
  {
   "cell_type": "code",
   "execution_count": null,
   "metadata": {},
   "outputs": [],
   "source": [
    "using DelaySSAToolkit, Catalyst\n",
    "using Test,BenchmarkTools"
   ]
  },
  {
   "cell_type": "code",
   "execution_count": null,
   "metadata": {},
   "outputs": [],
   "source": [
    "rn = @reaction_network begin\n",
    "    1/(1+Y^2), 0 --> X\n",
    "    1/(1+Y),   Y --> 0\n",
    "end\n",
    "jumpsys = convert(JumpSystem, rn, combinatoric_ratelaws = false)"
   ]
  },
  {
   "cell_type": "code",
   "execution_count": null,
   "metadata": {},
   "outputs": [],
   "source": [
    "u0 = [0,0]\n",
    "de_chan0 = [[]]\n",
    "tf = 400.\n",
    "tspan = (0,tf)\n",
    "τ = 20.\n",
    "dprob = DiscreteProblem(jumpsys, u0, tspan)"
   ]
  },
  {
   "cell_type": "code",
   "execution_count": null,
   "metadata": {},
   "outputs": [],
   "source": [
    "delay_trigger_affect! = function (integrator, rng)\n",
    "    append!(integrator.de_chan[1], τ)\n",
    "  end\n",
    "  delay_trigger = Dict(1=>delay_trigger_affect!)\n",
    "  delay_complete = Dict(1=>[2=>1, 1=>-1], 2=>[2=>1])\n",
    "  delay_interrupt = Dict()\n",
    "  delayjumpset = DelayJumpSet(delay_trigger, delay_complete, delay_interrupt)"
   ]
  },
  {
   "cell_type": "code",
   "execution_count": 10,
   "metadata": {},
   "outputs": [],
   "source": [
    "medianlist=[]\n",
    "algo_list =[DelayDirect(),DelayRejection(),DelayMNRM(),DelayDirectCR()]\n",
    "for algo in algo_list\n",
    "    djprob = DelayJumpProblem(jumpsys, dprob,algo,delayjumpset, de_chan0, save_positions=(false,false))\n",
    "    a=@benchmark solve(djprob, SSAStepper())\n",
    "    push!(medianlist,median(a).time/1e9)\n",
    "end\n",
    "medianlist"
   ]
  },
  {
   "cell_type": "code",
   "execution_count": null,
   "metadata": {},
   "outputs": [],
   "source": [
    "p1=bar(algo_name,medianlist,legend=:false,title=\"oscillation\",ylabel=\"mediantime\")\n",
    "scatter!(algo_name, 0.0003 .+ medianlist , markeralpha=0, series_annotations=medianvalue)"
   ]
  },
  {
   "cell_type": "code",
   "execution_count": null,
   "metadata": {},
   "outputs": [],
   "source": [
    "using Plots"
   ]
  },
  {
   "cell_type": "code",
   "execution_count": null,
   "metadata": {},
   "outputs": [],
   "source": [
    "medianvalue=[string(round(mt,digits=6),\"s\") for mt in medianlist]\n",
    "algo_name = [\"DelayDirect\",\"DelayRejection\",\"DelayMNRM\",\"DelayDirectCR\"]"
   ]
  }
 ],
 "metadata": {
  "kernelspec": {
   "display_name": "Julia 1.6.2",
   "language": "julia",
   "name": "julia-1.6"
  },
  "language_info": {
   "file_extension": ".jl",
   "mimetype": "application/julia",
   "name": "julia",
   "version": "1.6.2"
  },
  "orig_nbformat": 4
 },
 "nbformat": 4,
 "nbformat_minor": 2
}
